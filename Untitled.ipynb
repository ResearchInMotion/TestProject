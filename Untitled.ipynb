{
 "cells": [
  {
   "cell_type": "code",
   "execution_count": 2,
   "metadata": {},
   "outputs": [
    {
     "name": "stdout",
     "output_type": "stream",
     "text": [
      "2\n"
     ]
    }
   ],
   "source": [
    "x=1+1\n",
    "print(\"value of x is \",x)"
   ]
  },
  {
   "cell_type": "code",
   "execution_count": 1,
   "metadata": {},
   "outputs": [
    {
     "name": "stdout",
     "output_type": "stream",
     "text": [
      "180\n"
     ]
    }
   ],
   "source": [
    "y =90+90\n",
    "print (y)"
   ]
  },
  {
   "cell_type": "code",
   "execution_count": 2,
   "metadata": {},
   "outputs": [
    {
     "name": "stdout",
     "output_type": "stream",
     "text": [
      "5.0\n"
     ]
    }
   ],
   "source": [
    "c=(50 - 5*6) / 4\n",
    "print(c)"
   ]
  },
  {
   "cell_type": "code",
   "execution_count": 3,
   "metadata": {},
   "outputs": [
    {
     "name": "stdout",
     "output_type": "stream",
     "text": [
      "[2, 4]\n"
     ]
    }
   ],
   "source": [
    "list=[1,2,3,4,5,6,7]\n",
    "print(list[1:5:2])"
   ]
  },
  {
   "cell_type": "code",
   "execution_count": 4,
   "metadata": {},
   "outputs": [
    {
     "name": "stdout",
     "output_type": "stream",
     "text": [
      "the count is : 0\n",
      "the count is : 1\n",
      "the count is : 2\n",
      "the count is : 3\n",
      "the count is : 4\n",
      "the count is : 5\n",
      "the count is : 6\n",
      "the count is : 7\n",
      "the count is : 8\n",
      "bye for now\n"
     ]
    }
   ],
   "source": [
    "count =0\n",
    "while(count<9):\n",
    "    print(\"the count is :\",count)\n",
    "    count = count +1\n",
    "\n",
    "print(\"bye for now\")"
   ]
  },
  {
   "cell_type": "code",
   "execution_count": null,
   "metadata": {},
   "outputs": [
    {
     "name": "stdout",
     "output_type": "stream",
     "text": [
      "enter a number :6\n",
      "you entered 6\n",
      "enter a number :3\n",
      "you entered 3\n",
      "enter a number :7\n",
      "you entered 7\n"
     ]
    }
   ],
   "source": [
    "var =1 \n",
    "while var==1:\n",
    "    number=input(\"enter a number :\")\n",
    "    print(\"you entered\",number)\n",
    "    \n",
    "print(\"bye for now\")"
   ]
  },
  {
   "cell_type": "code",
   "execution_count": null,
   "metadata": {
    "collapsed": true
   },
   "outputs": [],
   "source": [
    "count = 0\n",
    "while (count<5):\n",
    "    print(count,\"count is less than 5\")\n",
    "    count=count+1\n",
    "else():\n",
    "    print(count,\"count is greater than 5\")"
   ]
  },
  {
   "cell_type": "code",
   "execution_count": null,
   "metadata": {
    "collapsed": true
   },
   "outputs": [],
   "source": [
    "import random\n",
    "from mimetypes import guess_all_extensions\n",
    "\n",
    "guessestaken=0\n",
    "\n",
    "print(\"what is your name\")\n",
    "MyName=input()\n",
    "\n",
    "number=random.randint(1,20)\n",
    "\n",
    "print('Well, ' + MyName + ', I am thinking of a number between 1 and 20.')\n",
    "\n",
    "while (guessestaken<5):\n",
    "    print('Take a guess , dude')\n",
    "    guess=input()\n",
    "    guess=int(guess)\n",
    "\n",
    "\n",
    "    guessestaken=guessestaken+1\n",
    "    guesstaken2=guessestaken-1\n",
    "\n",
    "    if(guess<number):\n",
    "        print('your guess is too low , make a good guess dude')\n",
    "\n",
    "    if(guess<number):\n",
    "        print(\"you only have this number of guesses left = \" , guesstaken2)\n",
    "\n",
    "    if(guess>number):\n",
    "     print('your guess is too high , dont be too high !! man')\n",
    "\n",
    "     if (guess != number):\n",
    "         print(\"you only have this number of guess left =  \", guesstaken2)\n",
    "\n",
    "    if(guess==number):\n",
    "     break\n",
    "\n",
    "if(guess==number):\n",
    "    guessestaken=str(guessestaken)\n",
    "    print('Good job, ' + MyName + '! You guessed my number in ' + guessestaken + ' guesses!')\n",
    "\n",
    "if guess != number:\n",
    "    number = str(number)\n",
    "    print('Nope. The number I was thinking of was ' + number)\n"
   ]
  },
  {
   "cell_type": "code",
   "execution_count": null,
   "metadata": {
    "collapsed": true
   },
   "outputs": [],
   "source": []
  }
 ],
 "metadata": {
  "kernelspec": {
   "display_name": "Python 3",
   "language": "python",
   "name": "python3"
  },
  "language_info": {
   "codemirror_mode": {
    "name": "ipython",
    "version": 3
   },
   "file_extension": ".py",
   "mimetype": "text/x-python",
   "name": "python",
   "nbconvert_exporter": "python",
   "pygments_lexer": "ipython3",
   "version": "3.6.2"
  }
 },
 "nbformat": 4,
 "nbformat_minor": 2
}
